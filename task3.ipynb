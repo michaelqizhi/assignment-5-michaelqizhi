{
 "cells": [
  {
   "cell_type": "code",
   "execution_count": 1,
   "metadata": {},
   "outputs": [],
   "source": [
    "import warnings\n",
    "warnings.filterwarnings('ignore')"
   ]
  },
  {
   "cell_type": "markdown",
   "metadata": {},
   "source": [
    "## Import Libraries"
   ]
  },
  {
   "cell_type": "code",
   "execution_count": 27,
   "metadata": {},
   "outputs": [],
   "source": [
    "import numpy as np\n",
    "import pandas as pd\n",
    "from PIL import Image\n",
    "import os\n",
    "from sklearn.model_selection import train_test_split"
   ]
  },
  {
   "cell_type": "markdown",
   "metadata": {},
   "source": [
    "## Load Data"
   ]
  },
  {
   "cell_type": "code",
   "execution_count": 37,
   "metadata": {},
   "outputs": [],
   "source": [
    "# path to image files\n",
    "infected_path = r'C:\\Users\\MQ0\\Downloads\\cell_images\\Parasitized'\n",
    "uninfected_path = r'C:\\Users\\MQ0\\Downloads\\cell_images\\Uninfected'\n",
    "\n",
    "# variables to store data\n",
    "data = []\n",
    "labels = []\n",
    "\n",
    "# read in every image as numpy array\n",
    "label = 0\n",
    "for x in [uninfected_path,infected_path]:  \n",
    "    for im in os.listdir(x):\n",
    "        if 'Thumbs.db' not in im:\n",
    "            image = Image.open(x + '\\\\' + im).resize((50,50))\n",
    "            data.append(np.asarray(image))\n",
    "            labels.append(label)\n",
    "    label += 1"
   ]
  },
  {
   "cell_type": "code",
   "execution_count": 45,
   "metadata": {},
   "outputs": [],
   "source": [
    "# convert data to numpy array\n",
    "data = np.array(data)/255\n",
    "labels = np.array(labels)\n",
    "\n",
    "# split train test\n",
    "X_train, X_test, y_train, y_test = train_test_split(data, labels, shuffle = True)"
   ]
  }
 ],
 "metadata": {
  "kernelspec": {
   "display_name": "Python 3",
   "language": "python",
   "name": "python3"
  },
  "language_info": {
   "codemirror_mode": {
    "name": "ipython",
    "version": 3
   },
   "file_extension": ".py",
   "mimetype": "text/x-python",
   "name": "python",
   "nbconvert_exporter": "python",
   "pygments_lexer": "ipython3",
   "version": "3.7.6"
  }
 },
 "nbformat": 4,
 "nbformat_minor": 4
}
